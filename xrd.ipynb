{
 "cells": [
  {
   "cell_type": "code",
   "execution_count": 75,
   "id": "80db0f3e",
   "metadata": {},
   "outputs": [],
   "source": [
    "from pymatgen.analysis.diffraction import xrd\n",
    "from pymatgen import Structure\n",
    "from pymatgen.ext.matproj import MPRester\n",
    "from pymatgen.symmetry.analyzer import SpacegroupAnalyzer\n",
    "\n",
    "with MPRester(\"FRwPcLRDMNnTniHs\") as m:\n",
    "    # Structure for material id\n",
    "    structureTom = m.get_structure_by_material_id(\"mp-961646\")\n",
    "\n",
    "    # Dos for material id\n",
    "    dos = m.get_dos_by_material_id(\"mp-961646\")\n",
    "\n",
    "    # Bandstructure for material id\n",
    "    bandstructure = m.get_bandstructure_by_material_id(\"mp-961646\")\n",
    "\n",
    "    \n",
    "diffractogramme = xrd.XRDCalculator(wavelength=1.54060)\n",
    "    \n",
    "#use of the conventional structure to ensure that peaks are labelled with the conventional Miller indices \n",
    "sga = SpacegroupAnalyzer(structureTom)\n",
    "conventional_structure = sga.get_conventional_standard_structure()"
   ]
  },
  {
   "cell_type": "markdown",
   "id": "cf597d8e",
   "metadata": {},
   "source": [
    "Voici successivement l'intensité, l'angle 2𝜃 et les indices associés au premier pic du diffractogramme pour un rayonnement X incident Cu Kα de longueur d’onde λ=1.54060 Å."
   ]
  },
  {
   "cell_type": "code",
   "execution_count": 76,
   "id": "016cdad1",
   "metadata": {},
   "outputs": [
    {
     "name": "stdout",
     "output_type": "stream",
     "text": [
      "La valeur absolue de l'intensité = 27618978.934859253\n",
      "L'intensité mise à l'échelle (100 correspondant au plus grand pic) = 79.55847989712385\n",
      "L'angle 2𝜃 = 24.975955981629717\n",
      "les indices hkl associés = (1, 1, 1)\n"
     ]
    }
   ],
   "source": [
    "print('La valeur absolue de l\\'intensité =',diffractogramme.get_pattern(conventional_structure,False).y[0])\n",
    "print('L\\'intensité mise à l\\'échelle (100 correspondant au plus grand pic) =',diffractogramme.get_pattern(conventional_structure).y[0])\n",
    "print('L\\'angle 2𝜃 =',diffractogramme.get_pattern(conventional_structure,False).x[0])\n",
    "print('les indices hkl associés =',diffractogramme.get_pattern(conventional_structure).hkls[0][0]['hkl'])"
   ]
  },
  {
   "cell_type": "markdown",
   "id": "bcd2032e",
   "metadata": {},
   "source": [
    "Voici successivement l'intensité, l'angle 2𝜃 et les indices associés au second pic du diffractogramme pour un rayonnement X incident Cu Kα de longueur d’onde λ=1.54060 Å."
   ]
  },
  {
   "cell_type": "code",
   "execution_count": 77,
   "id": "202b6200",
   "metadata": {},
   "outputs": [
    {
     "name": "stdout",
     "output_type": "stream",
     "text": [
      "La valeur absolue de l'intensité = 60700.0735198193\n",
      "L'intensité mise à l'échelle (100 correspondant au plus grand pic) = 0.17485098164817775\n",
      "L'angle 2𝜃 = 28.917910625961852\n",
      "les indices hkl associés = (2, 0, 0)\n"
     ]
    }
   ],
   "source": [
    "print('La valeur absolue de l\\'intensité =',diffractogramme.get_pattern(conventional_structure,False).y[1])\n",
    "print('L\\'intensité mise à l\\'échelle (100 correspondant au plus grand pic) =',diffractogramme.get_pattern(conventional_structure).y[1])\n",
    "print('L\\'angle 2𝜃 =',diffractogramme.get_pattern(conventional_structure,False).x[1])\n",
    "print('les indices hkl associés =',diffractogramme.get_pattern(conventional_structure).hkls[1][0]['hkl'])"
   ]
  },
  {
   "cell_type": "markdown",
   "id": "51866e88",
   "metadata": {},
   "source": [
    "Voici successivement l'intensité, l'angle 2𝜃 et les indices associés au troisième pic du diffractogramme pour un rayonnement X incident Cu Kα de longueur d’onde λ=1.54060 Å."
   ]
  },
  {
   "cell_type": "code",
   "execution_count": 78,
   "id": "9bc45a78",
   "metadata": {},
   "outputs": [
    {
     "name": "stdout",
     "output_type": "stream",
     "text": [
      "La valeur absolue de l'intensité = 2169707.34692369\n",
      "L'intensité mise à l'échelle (100 correspondant au plus grand pic) = 100.0\n",
      "L'angle 2𝜃 = 41.35529574287736\n",
      "les indices hkl associés = (2, 2, 0)\n"
     ]
    }
   ],
   "source": [
    "print('La valeur absolue de l\\'intensité =',diffractogramme.get_pattern(structureTom,False).y[2])\n",
    "print('L\\'intensité mise à l\\'échelle (100 correspondant au plus grand pic) =',diffractogramme.get_pattern(structureTom).y[2])\n",
    "print('L\\'angle 2𝜃 =',diffractogramme.get_pattern(structureTom,False).x[2])\n",
    "print('les indices hkl associés =',diffractogramme.get_pattern(conventional_structure).hkls[2][0]['hkl'])"
   ]
  }
 ],
 "metadata": {
  "kernelspec": {
   "display_name": "Python 3",
   "language": "python",
   "name": "python3"
  },
  "language_info": {
   "codemirror_mode": {
    "name": "ipython",
    "version": 3
   },
   "file_extension": ".py",
   "mimetype": "text/x-python",
   "name": "python",
   "nbconvert_exporter": "python",
   "pygments_lexer": "ipython3",
   "version": "3.6.8"
  }
 },
 "nbformat": 4,
 "nbformat_minor": 5
}
