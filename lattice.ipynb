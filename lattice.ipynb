{
 "cells": [
  {
   "cell_type": "code",
   "execution_count": 17,
   "id": "a87282c4",
   "metadata": {},
   "outputs": [],
   "source": [
    "from pymatgen.ext.matproj import MPRester\n",
    "from pymatgen.symmetry.analyzer import SpacegroupAnalyzer\n",
    "\n",
    "with MPRester(\"FRwPcLRDMNnTniHs\") as m:\n",
    "    # Structure for material id\n",
    "    structureTom = m.get_structure_by_material_id(\"mp-961646\")\n",
    "\n",
    "    # Dos for material id\n",
    "    dos = m.get_dos_by_material_id(\"mp-961646\")\n",
    "\n",
    "    # Bandstructure for material id\n",
    "    bandstructure = m.get_bandstructure_by_material_id(\"mp-961646\")"
   ]
  },
  {
   "cell_type": "code",
   "execution_count": 18,
   "id": "d17d4983",
   "metadata": {},
   "outputs": [
    {
     "name": "stdout",
     "output_type": "stream",
     "text": [
      "les vecteurs de bases du réseau direct sont:\n",
      "0.000000 3.085070 3.085070\n",
      "3.085070 0.000000 3.085070\n",
      "3.085070 3.085070 0.000000\n",
      "les vecteurs de bases du réseau réciproque sont:\n",
      "-1.018321 1.018321 1.018321\n",
      "1.018321 -1.018321 1.018321\n",
      "1.018321 1.018321 -1.018321\n",
      "le type de maille est:\n",
      "cubic\n",
      "le systeme crystallin est:\n",
      "cubic\n",
      "le groupe ponctuel est:\n",
      "-43m\n"
     ]
    }
   ],
   "source": [
    "a = SpacegroupAnalyzer(structureTom)\n",
    "print(\"les vecteurs de bases du réseau direct sont:\")\n",
    "print(structure.lattice)\n",
    "print(\"les vecteurs de bases du réseau réciproque sont:\")\n",
    "print(structure.lattice.reciprocal_lattice)\n",
    "print(\"le type de maille est:\")\n",
    "print(a.get_lattice_type())\n",
    "print(\"le systeme crystallin est:\")\n",
    "print(a.get_crystal_system())\n",
    "print(\"le groupe ponctuel est:\")\n",
    "print(a.get_point_group_symbol())"
   ]
  }
 ],
 "metadata": {
  "kernelspec": {
   "display_name": "Python 3",
   "language": "python",
   "name": "python3"
  },
  "language_info": {
   "codemirror_mode": {
    "name": "ipython",
    "version": 3
   },
   "file_extension": ".py",
   "mimetype": "text/x-python",
   "name": "python",
   "nbconvert_exporter": "python",
   "pygments_lexer": "ipython3",
   "version": "3.6.8"
  }
 },
 "nbformat": 4,
 "nbformat_minor": 5
}
