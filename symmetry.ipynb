{
 "cells": [
  {
   "cell_type": "code",
   "execution_count": 70,
   "id": "472608ef",
   "metadata": {
    "scrolled": true
   },
   "outputs": [
    {
     "data": {
      "application/vnd.jupyter.widget-view+json": {
       "model_id": "1d977555450d4da7b581fcd7300af0db",
       "version_major": 2,
       "version_minor": 0
      },
      "text/plain": [
       "JsmolView(layout=Layout(align_self='stretch', height='400px'))"
      ]
     },
     "metadata": {},
     "output_type": "display_data"
    }
   ],
   "source": [
    "from jupyter_jsmol import JsmolView\n",
    "from ipywidgets import Layout, widgets, interact\n",
    "from IPython.display import display\n",
    "from jupyter_jsmol.pymatgen import quick_view\n",
    "from pymatgen.ext.matproj import MPRester\n",
    "from pymatgen import Structure\n",
    "\n",
    "with MPRester(\"FRwPcLRDMNnTniHs\") as m:\n",
    "    # Structure for material id\n",
    "    structureTom = m.get_structure_by_material_id(\"mp-961646\")\n",
    "\n",
    "    # Dos for material id\n",
    "    dos = m.get_dos_by_material_id(\"mp-961646\")\n",
    "\n",
    "    # Bandstructure for material id\n",
    "    bandstructure = m.get_bandstructure_by_material_id(\"mp-961646\")\n",
    "    \n",
    "view = quick_view(structureTom,\"packed\",conventional = True)\n",
    "display(view)    "
   ]
  },
  {
   "cell_type": "code",
   "execution_count": null,
   "id": "b4f2af09",
   "metadata": {},
   "outputs": [],
   "source": [
    "view.script('draw symop 3 {atomno=30}')"
   ]
  },
  {
   "cell_type": "markdown",
   "id": "000c4033",
   "metadata": {},
   "source": [
    "la symétrie n°3 envoie (x,y,z) en (-x,-y,z). C'est une rotation d'orde 2 (180°) dont l'axe est parallèle à c. L'axe de rotation d'ordre 2 se situe en (0,0,z). L'atome n°30 de coordonnées(1,1,0) fait une rotation de 180° pour se retrouver en (-1,-1,0) et finalement l'atome est remis dans la maille grâce à une translation de maille et arrive en (0,0,0)."
   ]
  },
  {
   "cell_type": "code",
   "execution_count": 48,
   "id": "1eb25eb1",
   "metadata": {},
   "outputs": [],
   "source": [
    "view.script('draw symop 30 {atomno=8}')"
   ]
  },
  {
   "cell_type": "markdown",
   "id": "066590f0",
   "metadata": {},
   "source": [
    "la symétrie n°30 envoie (x,y,z) en (y+1/2, x+1/2, z). C'est une réflexion avec glissement. Le plan de glissement est le plan (1,1,0). L'atome n°8 de coordonnées(0,1/2,0) est envoyé en coordonnées (1/2,0,0) et translaté parallèlement au plan d'une demie longueur de maille 1/2(a+b) dans la direction (1,1,0) et se retouve finalement en coordonnées (1,1/2,0)."
   ]
  },
  {
   "cell_type": "code",
   "execution_count": 52,
   "id": "282c9730",
   "metadata": {},
   "outputs": [],
   "source": [
    "view.script('draw symop 75 {atomno=5}')"
   ]
  },
  {
   "cell_type": "markdown",
   "id": "9466b7ed",
   "metadata": {},
   "source": [
    "la symétrie n°75 envoie (x,y,z) en (-x, -y+1/2, z+1/2). C'est une rotation hélicoïdale 2_1 dont l'axe est parallèle à c. L'axe de rotation se situe en (0,1/4,z). L'atome n°5 de coordonnées(3/4,3/4,1/4) fait une rotation de 180° pour se retrouver en (-3/4,-1/4,1/4) et subit une translation le long de l'axe c (dans la direction (0,0,1)) d'une demie longueur de maille 1/2(c) pour se retrouver en (-3/4,-1/4,3/4) et finalement l'atome est remis dans la maille grâce à une translation de maille et arrive en (1/4,3/4,3/4)."
   ]
  }
 ],
 "metadata": {
  "kernelspec": {
   "display_name": "Python 3",
   "language": "python",
   "name": "python3"
  },
  "language_info": {
   "codemirror_mode": {
    "name": "ipython",
    "version": 3
   },
   "file_extension": ".py",
   "mimetype": "text/x-python",
   "name": "python",
   "nbconvert_exporter": "python",
   "pygments_lexer": "ipython3",
   "version": "3.6.8"
  }
 },
 "nbformat": 4,
 "nbformat_minor": 5
}
